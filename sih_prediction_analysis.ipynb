{
 "cells": [
  {
   "cell_type": "code",
   "execution_count": 149,
   "id": "929fc702-547f-4cce-95f1-1d95160ae2a1",
   "metadata": {},
   "outputs": [],
   "source": [
    "import pandas as pd\n",
    "import numpy as np\n",
    "import seaborn as sns\n",
    "import matplotlib.pyplot as plt\n",
    "import warnings\n",
    "warnings.filterwarnings('ignore')"
   ]
  },
  {
   "cell_type": "code",
   "execution_count": 151,
   "id": "0751d4fa-77f5-4196-90b6-c27fbe2e3530",
   "metadata": {},
   "outputs": [],
   "source": [
    "df_tax=pd.read_excel('filtered_file_tax.xlsx')"
   ]
  },
  {
   "cell_type": "code",
   "execution_count": 153,
   "id": "d51fb900-05a3-4711-a11d-7e2a145f1c9f",
   "metadata": {},
   "outputs": [
    {
     "name": "stdout",
     "output_type": "stream",
     "text": [
      "<class 'pandas.core.frame.DataFrame'>\n",
      "RangeIndex: 97 entries, 0 to 96\n",
      "Data columns (total 13 columns):\n",
      " #   Column               Non-Null Count  Dtype \n",
      "---  ------               --------------  ----- \n",
      " 0   C+A1:U1ase Id        97 non-null     object\n",
      " 1   Case Title           97 non-null     object\n",
      " 2   Court Type           96 non-null     object\n",
      " 3   Jurisdiction         95 non-null     object\n",
      " 4   Case Year            97 non-null     int64 \n",
      " 5   Category of case     97 non-null     object\n",
      " 6   Case keywords        97 non-null     object\n",
      " 7   Number of evidences  97 non-null     object\n",
      " 8   Outcome in favor of  94 non-null     object\n",
      " 9   Outcome in Court     95 non-null     object\n",
      " 10  Main Issue           94 non-null     object\n",
      " 11  Tax                  97 non-null     int64 \n",
      " 12  Outcome              97 non-null     int64 \n",
      "dtypes: int64(3), object(10)\n",
      "memory usage: 10.0+ KB\n"
     ]
    }
   ],
   "source": [
    "df.info()"
   ]
  },
  {
   "cell_type": "code",
   "execution_count": 177,
   "id": "76a0419c-042f-4397-a6e4-56ab1a764983",
   "metadata": {},
   "outputs": [
    {
     "data": {
      "text/html": [
       "<div>\n",
       "<style scoped>\n",
       "    .dataframe tbody tr th:only-of-type {\n",
       "        vertical-align: middle;\n",
       "    }\n",
       "\n",
       "    .dataframe tbody tr th {\n",
       "        vertical-align: top;\n",
       "    }\n",
       "\n",
       "    .dataframe thead th {\n",
       "        text-align: right;\n",
       "    }\n",
       "</style>\n",
       "<table border=\"1\" class=\"dataframe\">\n",
       "  <thead>\n",
       "    <tr style=\"text-align: right;\">\n",
       "      <th></th>\n",
       "      <th>C+A1:U1ase Id</th>\n",
       "      <th>Case Title</th>\n",
       "      <th>Court Type</th>\n",
       "      <th>Jurisdiction</th>\n",
       "      <th>Case Year</th>\n",
       "      <th>Category of case</th>\n",
       "      <th>Case keywords</th>\n",
       "      <th>Number of evidences</th>\n",
       "      <th>Outcome in favor of</th>\n",
       "      <th>Outcome in Court</th>\n",
       "      <th>Main Issue</th>\n",
       "      <th>Tax</th>\n",
       "      <th>Outcome</th>\n",
       "    </tr>\n",
       "  </thead>\n",
       "  <tbody>\n",
       "    <tr>\n",
       "      <th>0</th>\n",
       "      <td>C01</td>\n",
       "      <td>Vishnu Agencies (Pvt.) Ltd. Etc vs Commercial ...</td>\n",
       "      <td>Vishnu Agencies (Pvt.) Ltd. Etc vs Commercial ...</td>\n",
       "      <td>Supreme Court of India</td>\n",
       "      <td>1977</td>\n",
       "      <td>Tax Law</td>\n",
       "      <td>sales tax compulsory sale essential commoditie...</td>\n",
       "      <td>Medium</td>\n",
       "      <td>Respondent</td>\n",
       "      <td>Appeal dismissed</td>\n",
       "      <td>Taxability of compulsory sales under statutory...</td>\n",
       "      <td>1</td>\n",
       "      <td>0</td>\n",
       "    </tr>\n",
       "    <tr>\n",
       "      <th>1</th>\n",
       "      <td>C02</td>\n",
       "      <td>Vikas Sales Corporation And Anr. Etc. ... vs C...</td>\n",
       "      <td>Civil Appellate Jurisdiction</td>\n",
       "      <td>Supreme Court of India</td>\n",
       "      <td>1996</td>\n",
       "      <td>Tax Law</td>\n",
       "      <td>sales tax rep licence exim scrip import export...</td>\n",
       "      <td>Medium</td>\n",
       "      <td>Respondent</td>\n",
       "      <td>Appeal dismissed</td>\n",
       "      <td>Taxability of REP Licences/Exim Scrips</td>\n",
       "      <td>1</td>\n",
       "      <td>0</td>\n",
       "    </tr>\n",
       "    <tr>\n",
       "      <th>2</th>\n",
       "      <td>C04</td>\n",
       "      <td>Commercial Tax Officer, Rajasthan vs Binani Ce...</td>\n",
       "      <td>Civil Appellate Jurisdiction</td>\n",
       "      <td>Supreme Court of India</td>\n",
       "      <td>2014</td>\n",
       "      <td>Tax Law</td>\n",
       "      <td>sales tax tax exemption industrial unit fci ra...</td>\n",
       "      <td>Low</td>\n",
       "      <td>Against Respondent</td>\n",
       "      <td>Appeal allowed</td>\n",
       "      <td>Eligibility for tax exemption under the Rajast...</td>\n",
       "      <td>1</td>\n",
       "      <td>1</td>\n",
       "    </tr>\n",
       "    <tr>\n",
       "      <th>3</th>\n",
       "      <td>C09</td>\n",
       "      <td>Ald Automotive Pvt Ltd vs The Commercial Tax O...</td>\n",
       "      <td>Supreme Court</td>\n",
       "      <td>India</td>\n",
       "      <td>2018</td>\n",
       "      <td>Tax Law, Constitutional Law</td>\n",
       "      <td>vat input tax credit statutory interpretation</td>\n",
       "      <td>Medium</td>\n",
       "      <td>Respondent</td>\n",
       "      <td>Upheld the validity of Section 19(11) and deni...</td>\n",
       "      <td>Challenge to Section 19(11) of Tamil Nadu Valu...</td>\n",
       "      <td>1</td>\n",
       "      <td>0</td>\n",
       "    </tr>\n",
       "    <tr>\n",
       "      <th>4</th>\n",
       "      <td>C11</td>\n",
       "      <td>State Of Tamil Nadu And Another vs Board Of Tr...</td>\n",
       "      <td>Supreme Court of India</td>\n",
       "      <td>India</td>\n",
       "      <td>1999</td>\n",
       "      <td>Tax Law, Constitutional Law</td>\n",
       "      <td>port trust sales tax statutory duty business a...</td>\n",
       "      <td>Low</td>\n",
       "      <td>Respondent</td>\n",
       "      <td>Judgment in favor of the Port Trust</td>\n",
       "      <td>Whether the Port Trust is a 'dealer' under the...</td>\n",
       "      <td>1</td>\n",
       "      <td>0</td>\n",
       "    </tr>\n",
       "  </tbody>\n",
       "</table>\n",
       "</div>"
      ],
      "text/plain": [
       "  C+A1:U1ase Id                                         Case Title  \\\n",
       "0           C01  Vishnu Agencies (Pvt.) Ltd. Etc vs Commercial ...   \n",
       "1           C02  Vikas Sales Corporation And Anr. Etc. ... vs C...   \n",
       "2           C04  Commercial Tax Officer, Rajasthan vs Binani Ce...   \n",
       "3           C09  Ald Automotive Pvt Ltd vs The Commercial Tax O...   \n",
       "4           C11  State Of Tamil Nadu And Another vs Board Of Tr...   \n",
       "\n",
       "                                          Court Type            Jurisdiction  \\\n",
       "0  Vishnu Agencies (Pvt.) Ltd. Etc vs Commercial ...  Supreme Court of India   \n",
       "1                       Civil Appellate Jurisdiction  Supreme Court of India   \n",
       "2                       Civil Appellate Jurisdiction  Supreme Court of India   \n",
       "3                                      Supreme Court                   India   \n",
       "4                             Supreme Court of India                   India   \n",
       "\n",
       "   Case Year             Category of case  \\\n",
       "0       1977                      Tax Law   \n",
       "1       1996                      Tax Law   \n",
       "2       2014                      Tax Law   \n",
       "3       2018  Tax Law, Constitutional Law   \n",
       "4       1999  Tax Law, Constitutional Law   \n",
       "\n",
       "                                       Case keywords Number of evidences  \\\n",
       "0  sales tax compulsory sale essential commoditie...              Medium   \n",
       "1  sales tax rep licence exim scrip import export...              Medium   \n",
       "2  sales tax tax exemption industrial unit fci ra...                 Low   \n",
       "3      vat input tax credit statutory interpretation              Medium   \n",
       "4  port trust sales tax statutory duty business a...                 Low   \n",
       "\n",
       "  Outcome in favor of                                   Outcome in Court  \\\n",
       "0          Respondent                                   Appeal dismissed   \n",
       "1          Respondent                                   Appeal dismissed   \n",
       "2  Against Respondent                                     Appeal allowed   \n",
       "3          Respondent  Upheld the validity of Section 19(11) and deni...   \n",
       "4          Respondent                Judgment in favor of the Port Trust   \n",
       "\n",
       "                                          Main Issue  Tax  Outcome  \n",
       "0  Taxability of compulsory sales under statutory...    1        0  \n",
       "1             Taxability of REP Licences/Exim Scrips    1        0  \n",
       "2  Eligibility for tax exemption under the Rajast...    1        1  \n",
       "3  Challenge to Section 19(11) of Tamil Nadu Valu...    1        0  \n",
       "4  Whether the Port Trust is a 'dealer' under the...    1        0  "
      ]
     },
     "execution_count": 177,
     "metadata": {},
     "output_type": "execute_result"
    }
   ],
   "source": [
    "df_tax.head()"
   ]
  },
  {
   "cell_type": "code",
   "execution_count": 179,
   "id": "1aaea2c8-bfa8-4504-80c8-d251fbb6b2ec",
   "metadata": {},
   "outputs": [
    {
     "data": {
      "text/plain": [
       "C+A1:U1ase Id          0\n",
       "Case Title             0\n",
       "Court Type             1\n",
       "Jurisdiction           2\n",
       "Case Year              0\n",
       "Category of case       0\n",
       "Case keywords          0\n",
       "Number of evidences    0\n",
       "Outcome in favor of    3\n",
       "Outcome in Court       2\n",
       "Main Issue             3\n",
       "Tax                    0\n",
       "Outcome                0\n",
       "dtype: int64"
      ]
     },
     "execution_count": 179,
     "metadata": {},
     "output_type": "execute_result"
    }
   ],
   "source": [
    "df.isnull().sum()"
   ]
  },
  {
   "cell_type": "code",
   "execution_count": 181,
   "id": "6c262bb5-c7e5-4ec5-8d0f-5508b980ac48",
   "metadata": {},
   "outputs": [
    {
     "data": {
      "text/plain": [
       "Tax\n",
       "1    97\n",
       "Name: count, dtype: int64"
      ]
     },
     "execution_count": 181,
     "metadata": {},
     "output_type": "execute_result"
    }
   ],
   "source": [
    "df.Tax.value_counts()"
   ]
  },
  {
   "cell_type": "code",
   "execution_count": 183,
   "id": "90ffdbb6-862d-48a0-9141-fda4790e2d2f",
   "metadata": {},
   "outputs": [
    {
     "data": {
      "text/plain": [
       "Outcome\n",
       "0    59\n",
       "1    38\n",
       "Name: count, dtype: int64"
      ]
     },
     "execution_count": 183,
     "metadata": {},
     "output_type": "execute_result"
    }
   ],
   "source": [
    "df.Outcome .value_counts()"
   ]
  },
  {
   "cell_type": "code",
   "execution_count": 185,
   "id": "dad9c736-1d20-4891-8017-96b73d5f6256",
   "metadata": {},
   "outputs": [],
   "source": [
    "import re \n",
    "import string"
   ]
  },
  {
   "cell_type": "code",
   "execution_count": 187,
   "id": "efa4da77-c23b-4a5c-90bf-85d844090f96",
   "metadata": {},
   "outputs": [],
   "source": [
    "alphanumeric=lambda x:re.sub('\\w*\\d\\w*','',x)\n",
    "pun_lower=lambda x:re.sub('[%s]' % re.escape(string.punctuation),'',x.lower())\n",
    "remove_n=lambda x:re.sub('\\n','',x)\n",
    "remove_non_ascii=lambda x:re.sub(r'[^\\x00-\\x7f]',r'',x)\n",
    "df_tax['Case keywords']=df_tax['Case keywords'].map(alphanumeric).map(pun_lower).map(remove_n).map(remove_non_ascii)"
   ]
  },
  {
   "cell_type": "code",
   "execution_count": 189,
   "id": "5ee5c6d3-c9dd-446a-904d-dfa643da377a",
   "metadata": {},
   "outputs": [],
   "source": [
    "from sklearn.model_selection import train_test_split,KFold,cross_val_score\n",
    "from sklearn.metrics import f1_score\n",
    "from sklearn.feature_extraction.text import CountVectorizer\n",
    "\n",
    "from sklearn.linear_model import LogisticRegression\n",
    "from sklearn.naive_bayes import MultinomialNB\n",
    "from sklearn.svm import SVC\n",
    "from sklearn.ensemble import RandomForestClassifier"
   ]
  },
  {
   "cell_type": "code",
   "execution_count": 191,
   "id": "cfc01413-51f8-4fd4-a971-7d9b22ed4615",
   "metadata": {},
   "outputs": [
    {
     "data": {
      "text/html": [
       "<div>\n",
       "<style scoped>\n",
       "    .dataframe tbody tr th:only-of-type {\n",
       "        vertical-align: middle;\n",
       "    }\n",
       "\n",
       "    .dataframe tbody tr th {\n",
       "        vertical-align: top;\n",
       "    }\n",
       "\n",
       "    .dataframe thead th {\n",
       "        text-align: right;\n",
       "    }\n",
       "</style>\n",
       "<table border=\"1\" class=\"dataframe\">\n",
       "  <thead>\n",
       "    <tr style=\"text-align: right;\">\n",
       "      <th></th>\n",
       "      <th>C+A1:U1ase Id</th>\n",
       "      <th>Case Title</th>\n",
       "      <th>Court Type</th>\n",
       "      <th>Jurisdiction</th>\n",
       "      <th>Case Year</th>\n",
       "      <th>Category of case</th>\n",
       "      <th>Case keywords</th>\n",
       "      <th>Number of evidences</th>\n",
       "      <th>Outcome in favor of</th>\n",
       "      <th>Outcome in Court</th>\n",
       "      <th>Main Issue</th>\n",
       "      <th>Tax</th>\n",
       "      <th>Outcome</th>\n",
       "    </tr>\n",
       "  </thead>\n",
       "  <tbody>\n",
       "    <tr>\n",
       "      <th>0</th>\n",
       "      <td>C01</td>\n",
       "      <td>Vishnu Agencies (Pvt.) Ltd. Etc vs Commercial ...</td>\n",
       "      <td>Vishnu Agencies (Pvt.) Ltd. Etc vs Commercial ...</td>\n",
       "      <td>Supreme Court of India</td>\n",
       "      <td>1977</td>\n",
       "      <td>Tax Law</td>\n",
       "      <td>sales tax compulsory sale essential commoditie...</td>\n",
       "      <td>Medium</td>\n",
       "      <td>Respondent</td>\n",
       "      <td>Appeal dismissed</td>\n",
       "      <td>Taxability of compulsory sales under statutory...</td>\n",
       "      <td>1</td>\n",
       "      <td>0</td>\n",
       "    </tr>\n",
       "    <tr>\n",
       "      <th>1</th>\n",
       "      <td>C02</td>\n",
       "      <td>Vikas Sales Corporation And Anr. Etc. ... vs C...</td>\n",
       "      <td>Civil Appellate Jurisdiction</td>\n",
       "      <td>Supreme Court of India</td>\n",
       "      <td>1996</td>\n",
       "      <td>Tax Law</td>\n",
       "      <td>sales tax rep licence exim scrip import export...</td>\n",
       "      <td>Medium</td>\n",
       "      <td>Respondent</td>\n",
       "      <td>Appeal dismissed</td>\n",
       "      <td>Taxability of REP Licences/Exim Scrips</td>\n",
       "      <td>1</td>\n",
       "      <td>0</td>\n",
       "    </tr>\n",
       "    <tr>\n",
       "      <th>2</th>\n",
       "      <td>C04</td>\n",
       "      <td>Commercial Tax Officer, Rajasthan vs Binani Ce...</td>\n",
       "      <td>Civil Appellate Jurisdiction</td>\n",
       "      <td>Supreme Court of India</td>\n",
       "      <td>2014</td>\n",
       "      <td>Tax Law</td>\n",
       "      <td>sales tax tax exemption industrial unit fci ra...</td>\n",
       "      <td>Low</td>\n",
       "      <td>Against Respondent</td>\n",
       "      <td>Appeal allowed</td>\n",
       "      <td>Eligibility for tax exemption under the Rajast...</td>\n",
       "      <td>1</td>\n",
       "      <td>1</td>\n",
       "    </tr>\n",
       "    <tr>\n",
       "      <th>3</th>\n",
       "      <td>C09</td>\n",
       "      <td>Ald Automotive Pvt Ltd vs The Commercial Tax O...</td>\n",
       "      <td>Supreme Court</td>\n",
       "      <td>India</td>\n",
       "      <td>2018</td>\n",
       "      <td>Tax Law, Constitutional Law</td>\n",
       "      <td>vat input tax credit statutory interpretation</td>\n",
       "      <td>Medium</td>\n",
       "      <td>Respondent</td>\n",
       "      <td>Upheld the validity of Section 19(11) and deni...</td>\n",
       "      <td>Challenge to Section 19(11) of Tamil Nadu Valu...</td>\n",
       "      <td>1</td>\n",
       "      <td>0</td>\n",
       "    </tr>\n",
       "    <tr>\n",
       "      <th>4</th>\n",
       "      <td>C11</td>\n",
       "      <td>State Of Tamil Nadu And Another vs Board Of Tr...</td>\n",
       "      <td>Supreme Court of India</td>\n",
       "      <td>India</td>\n",
       "      <td>1999</td>\n",
       "      <td>Tax Law, Constitutional Law</td>\n",
       "      <td>port trust sales tax statutory duty business a...</td>\n",
       "      <td>Low</td>\n",
       "      <td>Respondent</td>\n",
       "      <td>Judgment in favor of the Port Trust</td>\n",
       "      <td>Whether the Port Trust is a 'dealer' under the...</td>\n",
       "      <td>1</td>\n",
       "      <td>0</td>\n",
       "    </tr>\n",
       "  </tbody>\n",
       "</table>\n",
       "</div>"
      ],
      "text/plain": [
       "  C+A1:U1ase Id                                         Case Title  \\\n",
       "0           C01  Vishnu Agencies (Pvt.) Ltd. Etc vs Commercial ...   \n",
       "1           C02  Vikas Sales Corporation And Anr. Etc. ... vs C...   \n",
       "2           C04  Commercial Tax Officer, Rajasthan vs Binani Ce...   \n",
       "3           C09  Ald Automotive Pvt Ltd vs The Commercial Tax O...   \n",
       "4           C11  State Of Tamil Nadu And Another vs Board Of Tr...   \n",
       "\n",
       "                                          Court Type            Jurisdiction  \\\n",
       "0  Vishnu Agencies (Pvt.) Ltd. Etc vs Commercial ...  Supreme Court of India   \n",
       "1                       Civil Appellate Jurisdiction  Supreme Court of India   \n",
       "2                       Civil Appellate Jurisdiction  Supreme Court of India   \n",
       "3                                      Supreme Court                   India   \n",
       "4                             Supreme Court of India                   India   \n",
       "\n",
       "   Case Year             Category of case  \\\n",
       "0       1977                      Tax Law   \n",
       "1       1996                      Tax Law   \n",
       "2       2014                      Tax Law   \n",
       "3       2018  Tax Law, Constitutional Law   \n",
       "4       1999  Tax Law, Constitutional Law   \n",
       "\n",
       "                                       Case keywords Number of evidences  \\\n",
       "0  sales tax compulsory sale essential commoditie...              Medium   \n",
       "1  sales tax rep licence exim scrip import export...              Medium   \n",
       "2  sales tax tax exemption industrial unit fci ra...                 Low   \n",
       "3      vat input tax credit statutory interpretation              Medium   \n",
       "4  port trust sales tax statutory duty business a...                 Low   \n",
       "\n",
       "  Outcome in favor of                                   Outcome in Court  \\\n",
       "0          Respondent                                   Appeal dismissed   \n",
       "1          Respondent                                   Appeal dismissed   \n",
       "2  Against Respondent                                     Appeal allowed   \n",
       "3          Respondent  Upheld the validity of Section 19(11) and deni...   \n",
       "4          Respondent                Judgment in favor of the Port Trust   \n",
       "\n",
       "                                          Main Issue  Tax  Outcome  \n",
       "0  Taxability of compulsory sales under statutory...    1        0  \n",
       "1             Taxability of REP Licences/Exim Scrips    1        0  \n",
       "2  Eligibility for tax exemption under the Rajast...    1        1  \n",
       "3  Challenge to Section 19(11) of Tamil Nadu Valu...    1        0  \n",
       "4  Whether the Port Trust is a 'dealer' under the...    1        0  "
      ]
     },
     "execution_count": 191,
     "metadata": {},
     "output_type": "execute_result"
    }
   ],
   "source": [
    "df_tax.head()"
   ]
  },
  {
   "cell_type": "code",
   "execution_count": 252,
   "id": "ff1704d5-2de1-4302-a707-3249283250dc",
   "metadata": {},
   "outputs": [],
   "source": [
    "def model(dataf,lbl):\n",
    "    # split the data\n",
    "    x=dataf['Case keywords']+dataf['Number of evidences']\n",
    "    y=dataf[lbl]\n",
    "\n",
    "    # spliting into train and test\n",
    "    x_train,x_test,y_train,y_test=train_test_split(x,y,test_size=0.2,random_state=50)\n",
    "\n",
    "    v=CountVectorizer()\n",
    "\n",
    "    x_train_v=v.fit_transform(x_train.values)\n",
    "    x_test_v=v.transform(x_test.values)\n",
    "\n",
    "    # machine learning models\n",
    "    lr=LogisticRegression()\n",
    "    lr.fit(x_train_v,y_train)\n",
    "\n",
    "    mnb=MultinomialNB()\n",
    "    mnb.fit(x_train_v,y_train)\n",
    "\n",
    "    svm=SVC()\n",
    "    svm.fit(x_train_v,y_train)\n",
    "\n",
    "    rfc=RandomForestClassifier()\n",
    "    rfc.fit(x_train_v,y_train)\n",
    "\n",
    "    # score\n",
    "    f1_score_data={ 'F1 Score':[ f1_score(lr.predict(x_test_v),y_test),f1_score(mnb.predict(x_test_v),y_test),\n",
    "                           f1_score(svm.predict(x_test_v),y_test),f1_score(rfc.predict(x_test_v),y_test)]}\n",
    "    \n",
    "    # saving scores in dataframe\n",
    "    df_score=pd.DataFrame(f1_score_data,index=['LogisticReg','MultinomialNB','SVC','RandomForestClassifier'])\n",
    "    \n",
    "    return df_score"
   ]
  },
  {
   "cell_type": "code",
   "execution_count": 254,
   "id": "4197e4fd-3206-4aef-8513-cd17b0806f66",
   "metadata": {},
   "outputs": [
    {
     "data": {
      "text/html": [
       "<div>\n",
       "<style scoped>\n",
       "    .dataframe tbody tr th:only-of-type {\n",
       "        vertical-align: middle;\n",
       "    }\n",
       "\n",
       "    .dataframe tbody tr th {\n",
       "        vertical-align: top;\n",
       "    }\n",
       "\n",
       "    .dataframe thead th {\n",
       "        text-align: right;\n",
       "    }\n",
       "</style>\n",
       "<table border=\"1\" class=\"dataframe\">\n",
       "  <thead>\n",
       "    <tr style=\"text-align: right;\">\n",
       "      <th></th>\n",
       "      <th>F1 Score</th>\n",
       "    </tr>\n",
       "  </thead>\n",
       "  <tbody>\n",
       "    <tr>\n",
       "      <th>LogisticReg</th>\n",
       "      <td>0.500000</td>\n",
       "    </tr>\n",
       "    <tr>\n",
       "      <th>MultinomialNB</th>\n",
       "      <td>0.666667</td>\n",
       "    </tr>\n",
       "    <tr>\n",
       "      <th>SVC</th>\n",
       "      <td>0.400000</td>\n",
       "    </tr>\n",
       "    <tr>\n",
       "      <th>RandomForestClassifier</th>\n",
       "      <td>0.222222</td>\n",
       "    </tr>\n",
       "  </tbody>\n",
       "</table>\n",
       "</div>"
      ],
      "text/plain": [
       "                        F1 Score\n",
       "LogisticReg             0.500000\n",
       "MultinomialNB           0.666667\n",
       "SVC                     0.400000\n",
       "RandomForestClassifier  0.222222"
      ]
     },
     "execution_count": 254,
     "metadata": {},
     "output_type": "execute_result"
    }
   ],
   "source": [
    "tax_df_cv=model(df_tax,'Outcome')\n",
    "tax_df_cv"
   ]
  },
  {
   "cell_type": "code",
   "execution_count": 256,
   "id": "347938d8-cd83-4a01-a64c-0d44cb7b3ce7",
   "metadata": {},
   "outputs": [
    {
     "data": {
      "text/html": [
       "<style>#sk-container-id-3 {color: black;background-color: white;}#sk-container-id-3 pre{padding: 0;}#sk-container-id-3 div.sk-toggleable {background-color: white;}#sk-container-id-3 label.sk-toggleable__label {cursor: pointer;display: block;width: 100%;margin-bottom: 0;padding: 0.3em;box-sizing: border-box;text-align: center;}#sk-container-id-3 label.sk-toggleable__label-arrow:before {content: \"▸\";float: left;margin-right: 0.25em;color: #696969;}#sk-container-id-3 label.sk-toggleable__label-arrow:hover:before {color: black;}#sk-container-id-3 div.sk-estimator:hover label.sk-toggleable__label-arrow:before {color: black;}#sk-container-id-3 div.sk-toggleable__content {max-height: 0;max-width: 0;overflow: hidden;text-align: left;background-color: #f0f8ff;}#sk-container-id-3 div.sk-toggleable__content pre {margin: 0.2em;color: black;border-radius: 0.25em;background-color: #f0f8ff;}#sk-container-id-3 input.sk-toggleable__control:checked~div.sk-toggleable__content {max-height: 200px;max-width: 100%;overflow: auto;}#sk-container-id-3 input.sk-toggleable__control:checked~label.sk-toggleable__label-arrow:before {content: \"▾\";}#sk-container-id-3 div.sk-estimator input.sk-toggleable__control:checked~label.sk-toggleable__label {background-color: #d4ebff;}#sk-container-id-3 div.sk-label input.sk-toggleable__control:checked~label.sk-toggleable__label {background-color: #d4ebff;}#sk-container-id-3 input.sk-hidden--visually {border: 0;clip: rect(1px 1px 1px 1px);clip: rect(1px, 1px, 1px, 1px);height: 1px;margin: -1px;overflow: hidden;padding: 0;position: absolute;width: 1px;}#sk-container-id-3 div.sk-estimator {font-family: monospace;background-color: #f0f8ff;border: 1px dotted black;border-radius: 0.25em;box-sizing: border-box;margin-bottom: 0.5em;}#sk-container-id-3 div.sk-estimator:hover {background-color: #d4ebff;}#sk-container-id-3 div.sk-parallel-item::after {content: \"\";width: 100%;border-bottom: 1px solid gray;flex-grow: 1;}#sk-container-id-3 div.sk-label:hover label.sk-toggleable__label {background-color: #d4ebff;}#sk-container-id-3 div.sk-serial::before {content: \"\";position: absolute;border-left: 1px solid gray;box-sizing: border-box;top: 0;bottom: 0;left: 50%;z-index: 0;}#sk-container-id-3 div.sk-serial {display: flex;flex-direction: column;align-items: center;background-color: white;padding-right: 0.2em;padding-left: 0.2em;position: relative;}#sk-container-id-3 div.sk-item {position: relative;z-index: 1;}#sk-container-id-3 div.sk-parallel {display: flex;align-items: stretch;justify-content: center;background-color: white;position: relative;}#sk-container-id-3 div.sk-item::before, #sk-container-id-3 div.sk-parallel-item::before {content: \"\";position: absolute;border-left: 1px solid gray;box-sizing: border-box;top: 0;bottom: 0;left: 50%;z-index: -1;}#sk-container-id-3 div.sk-parallel-item {display: flex;flex-direction: column;z-index: 1;position: relative;background-color: white;}#sk-container-id-3 div.sk-parallel-item:first-child::after {align-self: flex-end;width: 50%;}#sk-container-id-3 div.sk-parallel-item:last-child::after {align-self: flex-start;width: 50%;}#sk-container-id-3 div.sk-parallel-item:only-child::after {width: 0;}#sk-container-id-3 div.sk-dashed-wrapped {border: 1px dashed gray;margin: 0 0.4em 0.5em 0.4em;box-sizing: border-box;padding-bottom: 0.4em;background-color: white;}#sk-container-id-3 div.sk-label label {font-family: monospace;font-weight: bold;display: inline-block;line-height: 1.2em;}#sk-container-id-3 div.sk-label-container {text-align: center;}#sk-container-id-3 div.sk-container {/* jupyter's `normalize.less` sets `[hidden] { display: none; }` but bootstrap.min.css set `[hidden] { display: none !important; }` so we also need the `!important` here to be able to override the default hidden behavior on the sphinx rendered scikit-learn.org. See: https://github.com/scikit-learn/scikit-learn/issues/21755 */display: inline-block !important;position: relative;}#sk-container-id-3 div.sk-text-repr-fallback {display: none;}</style><div id=\"sk-container-id-3\" class=\"sk-top-container\"><div class=\"sk-text-repr-fallback\"><pre>MultinomialNB()</pre><b>In a Jupyter environment, please rerun this cell to show the HTML representation or trust the notebook. <br />On GitHub, the HTML representation is unable to render, please try loading this page with nbviewer.org.</b></div><div class=\"sk-container\" hidden><div class=\"sk-item\"><div class=\"sk-estimator sk-toggleable\"><input class=\"sk-toggleable__control sk-hidden--visually\" id=\"sk-estimator-id-3\" type=\"checkbox\" checked><label for=\"sk-estimator-id-3\" class=\"sk-toggleable__label sk-toggleable__label-arrow\">MultinomialNB</label><div class=\"sk-toggleable__content\"><pre>MultinomialNB()</pre></div></div></div></div></div>"
      ],
      "text/plain": [
       "MultinomialNB()"
      ]
     },
     "execution_count": 256,
     "metadata": {},
     "output_type": "execute_result"
    }
   ],
   "source": [
    "X=df_tax['Case keywords']+df_tax['Number of evidences']\n",
    "Y=df_tax['Outcome']\n",
    "\n",
    "X_train,X_test,Y_train,Y_test=train_test_split(X,Y,test_size=0.2,random_state=50)\n",
    "v=CountVectorizer()\n",
    "X_train_v=v.fit_transform(X_train)\n",
    "X_test_v=v.transform(X_test)\n",
    "tax_mb=MultinomialNB()\n",
    "tax_mb.fit(X_train_v,Y_train)"
   ]
  },
  {
   "cell_type": "code",
   "execution_count": 264,
   "id": "e35c2d5b-4a52-4a85-9d29-9d8c32e6c7aa",
   "metadata": {},
   "outputs": [
    {
     "data": {
      "text/plain": [
       "25    central excise classification of goods soft se...\n",
       "56      sales tax turnover tax agricultural producehigh\n",
       "8      permanent establishment royalty tax deductionLow\n",
       "94    sale of goods act banking regulation act sales...\n",
       "44     cgst act sgst act article  alternative remedyLow\n",
       "dtype: object"
      ]
     },
     "execution_count": 264,
     "metadata": {},
     "output_type": "execute_result"
    }
   ],
   "source": [
    "X_test.tail()"
   ]
  },
  {
   "cell_type": "code",
   "execution_count": 266,
   "id": "c1fef53b-fd9a-4149-9fc7-faac317d9082",
   "metadata": {},
   "outputs": [
    {
     "data": {
      "text/plain": [
       "array([0.98926264])"
      ]
     },
     "execution_count": 266,
     "metadata": {},
     "output_type": "execute_result"
    }
   ],
   "source": [
    "cmt1=[\"Income Tax Act Charitable Purpose Public Utility Profit Motive Medium\"]\n",
    "cmt1_v=v.transform(cmt1)\n",
    "tax_mb.predict_proba(cmt1_v)[:,1]"
   ]
  },
  {
   "cell_type": "code",
   "execution_count": null,
   "id": "ac655eb7-44da-4cf4-8e7d-19721b0ff9b5",
   "metadata": {},
   "outputs": [],
   "source": []
  }
 ],
 "metadata": {
  "kernelspec": {
   "display_name": "Python 3 (ipykernel)",
   "language": "python",
   "name": "python3"
  },
  "language_info": {
   "codemirror_mode": {
    "name": "ipython",
    "version": 3
   },
   "file_extension": ".py",
   "mimetype": "text/x-python",
   "name": "python",
   "nbconvert_exporter": "python",
   "pygments_lexer": "ipython3",
   "version": "3.11.7"
  }
 },
 "nbformat": 4,
 "nbformat_minor": 5
}

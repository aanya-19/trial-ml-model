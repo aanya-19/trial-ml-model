{
 "cells": [
  {
   "cell_type": "code",
   "execution_count": 1,
   "id": "929fc702-547f-4cce-95f1-1d95160ae2a1",
   "metadata": {},
   "outputs": [],
   "source": [
    "import pandas as pd\n",
    "import numpy as np\n",
    "import seaborn as sns\n",
    "import matplotlib.pyplot as plt\n",
    "import warnings\n",
    "warnings.filterwarnings('ignore')"
   ]
  },
  {
   "cell_type": "code",
   "execution_count": 3,
   "id": "0751d4fa-77f5-4196-90b6-c27fbe2e3530",
   "metadata": {},
   "outputs": [],
   "source": [
    "df_tax=pd.read_excel('filtered_file_tax.xlsx')\n",
    "df_contract=pd.read_excel('filtered_file_contract.xlsx')\n",
    "df_dispute=pd.read_excel('filtered_file_Dispute.xlsx')\n",
    "df_property=pd.read_excel('filtered_file_Property.xlsx')\n",
    "df_corporate=pd.read_excel('filtered_file_Corporate.xlsx')"
   ]
  },
  {
   "cell_type": "code",
   "execution_count": 5,
   "id": "90ffdbb6-862d-48a0-9141-fda4790e2d2f",
   "metadata": {},
   "outputs": [
    {
     "data": {
      "text/plain": [
       "outcome\n",
       "0    28\n",
       "1    23\n",
       "Name: count, dtype: int64"
      ]
     },
     "execution_count": 5,
     "metadata": {},
     "output_type": "execute_result"
    }
   ],
   "source": [
    "df_tax.Outcome.value_counts()\n",
    "df_contract.outcome.value_counts()"
   ]
  },
  {
   "cell_type": "code",
   "execution_count": 7,
   "id": "f65fb96b-a417-4d82-af6a-13e7991daf1b",
   "metadata": {},
   "outputs": [
    {
     "data": {
      "text/plain": [
       "outcome\n",
       "0    16\n",
       "1    11\n",
       "Name: count, dtype: int64"
      ]
     },
     "execution_count": 7,
     "metadata": {},
     "output_type": "execute_result"
    }
   ],
   "source": [
    "df_dispute.outcome.value_counts()"
   ]
  },
  {
   "cell_type": "code",
   "execution_count": 9,
   "id": "dad9c736-1d20-4891-8017-96b73d5f6256",
   "metadata": {},
   "outputs": [],
   "source": [
    "import re \n",
    "import string"
   ]
  },
  {
   "cell_type": "code",
   "execution_count": 11,
   "id": "efa4da77-c23b-4a5c-90bf-85d844090f96",
   "metadata": {},
   "outputs": [],
   "source": [
    "alphanumeric = lambda x: re.sub(r'\\w*\\d\\w*', '', str(x)) if isinstance(x, str) else x\n",
    "pun_lower = lambda x: re.sub(r'[%s]' % re.escape(string.punctuation), '', str(x).lower()) if isinstance(x, str) else x\n",
    "remove_n = lambda x: re.sub(r'\\n', '', str(x)) if isinstance(x, str) else x\n",
    "remove_non_ascii = lambda x: re.sub(r'[^\\x00-\\x7f]', r'', str(x)) if isinstance(x, str) else x\n",
    "\n",
    "# Apply the functions to the DataFrame columns\n",
    "df_tax['Case keywords'] = (\n",
    "    df_tax['Case keywords']\n",
    "    .map(alphanumeric)\n",
    "    .map(pun_lower)\n",
    "    .map(remove_n)\n",
    "    .map(remove_non_ascii)\n",
    ")\n",
    "df_tax['Court Type'] = (\n",
    "    df_tax['Court Type']\n",
    "    .map(alphanumeric)\n",
    "    .map(pun_lower)\n",
    "    .map(remove_n)\n",
    "    .map(remove_non_ascii)\n",
    ")\n",
    "\n",
    "#\n",
    "df_contract['Case keywords'] = (\n",
    "    df_contract['Case keywords']\n",
    "    .map(alphanumeric)\n",
    "    .map(pun_lower)\n",
    "    .map(remove_n)\n",
    "    .map(remove_non_ascii)\n",
    ")\n",
    "df_contract['Court Type'] = (\n",
    "    df_contract['Court Type']\n",
    "    .map(alphanumeric)\n",
    "    .map(pun_lower)\n",
    "    .map(remove_n)\n",
    "    .map(remove_non_ascii)\n",
    ")\n",
    "\n",
    "#\n",
    "df_property['Case keywords'] = (\n",
    "    df_property['Case keywords']\n",
    "    .map(alphanumeric)\n",
    "    .map(pun_lower)\n",
    "    .map(remove_n)\n",
    "    .map(remove_non_ascii)\n",
    ")\n",
    "df_property['Court Type'] = (\n",
    "    df_property['Court Type']\n",
    "    .map(alphanumeric)\n",
    "    .map(pun_lower)\n",
    "    .map(remove_n)\n",
    "    .map(remove_non_ascii)\n",
    ")\n",
    "\n",
    "#\n",
    "df_dispute['Case keywords'] = (\n",
    "    df_dispute['Case keywords']\n",
    "    .map(alphanumeric)\n",
    "    .map(pun_lower)\n",
    "    .map(remove_n)\n",
    "    .map(remove_non_ascii)\n",
    ")\n",
    "df_dispute['Court Type'] = (\n",
    "    df_dispute['Court Type']\n",
    "    .map(alphanumeric)\n",
    "    .map(pun_lower)\n",
    "    .map(remove_n)\n",
    "    .map(remove_non_ascii)\n",
    ")\n",
    "\n",
    "#\n",
    "df_corporate['Case keywords'] = (\n",
    "    df_corporate['Case keywords']\n",
    "    .map(alphanumeric)\n",
    "    .map(pun_lower)\n",
    "    .map(remove_n)\n",
    "    .map(remove_non_ascii)\n",
    ")\n",
    "df_corporate['Court Type'] = (\n",
    "    df_corporate['Court Type']\n",
    "    .map(alphanumeric)\n",
    "    .map(pun_lower)\n",
    "    .map(remove_n)\n",
    "    .map(remove_non_ascii)\n",
    ")"
   ]
  },
  {
   "cell_type": "code",
   "execution_count": 13,
   "id": "5ee5c6d3-c9dd-446a-904d-dfa643da377a",
   "metadata": {},
   "outputs": [],
   "source": [
    "from sklearn.model_selection import train_test_split,KFold,cross_val_score\n",
    "from sklearn.metrics import f1_score\n",
    "from sklearn.feature_extraction.text import CountVectorizer\n",
    "\n",
    "from sklearn.linear_model import LogisticRegression\n",
    "from sklearn.naive_bayes import MultinomialNB\n",
    "from sklearn.svm import SVC\n",
    "from sklearn.ensemble import RandomForestClassifier"
   ]
  },
  {
   "cell_type": "code",
   "execution_count": 131,
   "id": "ff1704d5-2de1-4302-a707-3249283250dc",
   "metadata": {},
   "outputs": [],
   "source": [
    "import os\n",
    "\n",
    "def model(dataf, lbl, save_model=True, save_path=\"models/\"):\n",
    "    \"\"\"\n",
    "    Train multiple machine learning models and evaluate their F1 scores.\n",
    "    \n",
    "    Parameters:\n",
    "        dataf (DataFrame): Input data containing features and labels.\n",
    "        lbl (str): Name of the label column.\n",
    "        save_model (bool): Whether to save the vectorizer and models. Default is True.\n",
    "        save_path (str): Directory path to save models and vectorizer. Default is 'models/'.\n",
    "        \n",
    "    Returns:\n",
    "        DataFrame: F1 scores of trained models.\n",
    "    \"\"\"\n",
    "    # Ensure the save directory exists\n",
    "    if save_model:\n",
    "        os.makedirs(save_path, exist_ok=True)\n",
    "\n",
    "    # Fill NaN values and convert columns to strings\n",
    "    dataf['Case keywords'] = dataf['Case keywords'].fillna('').astype(str)\n",
    "    dataf['Number of evidences'] = dataf['Number of evidences'].fillna(0).astype(str)\n",
    "    dataf['Court Type'] = dataf['Court Type'].fillna('').astype(str)\n",
    "    \n",
    "    # Combine features\n",
    "    x = dataf['Case keywords'] + \" \" + dataf['Number of evidences'] + \" \" + dataf['Court Type']\n",
    "    y = dataf[lbl]\n",
    "    \n",
    "    # Split data into train and test sets\n",
    "    x_train, x_test, y_train, y_test = train_test_split(x, y, test_size=0.2, random_state=50)\n",
    "    \n",
    "    # Initialize CountVectorizer\n",
    "    v = CountVectorizer()\n",
    "    x_train_v = v.fit_transform(x_train.values)\n",
    "    x_test_v = v.transform(x_test.values)\n",
    "    \n",
    "    # Initialize models\n",
    "    models = {\n",
    "        'LogisticReg': LogisticRegression(max_iter=1000),\n",
    "        'MultinomialNB': MultinomialNB(),\n",
    "        'SVC': SVC(probability=True),\n",
    "        'RandomForestClassifier': RandomForestClassifier(n_estimators=100, random_state=50)\n",
    "    }\n",
    "    \n",
    "    # Train models and compute F1 scores\n",
    "    scores = {}\n",
    "    for name, clf in models.items():\n",
    "        clf.fit(x_train_v, y_train)\n",
    "        predictions = clf.predict(x_test_v)\n",
    "        scores[name] = f1_score(y_test, predictions, average='weighted')\n",
    "        \n",
    "        # Save models if required\n",
    "        if save_model:\n",
    "            joblib.dump(clf, f\"{save_path}{name}.pkl\")\n",
    "    \n",
    "    # Save the vectorizer\n",
    "    if save_model:\n",
    "        joblib.dump(v, f\"{save_path}vectorizer.pkl\")\n",
    "    \n",
    "    # Convert scores to a DataFrame\n",
    "    df_score = pd.DataFrame(list(scores.items()), columns=['Model', 'F1 Score'])\n",
    "    df_score.set_index('Model', inplace=True)\n",
    "    \n",
    "    return df_score\n"
   ]
  },
  {
   "cell_type": "code",
   "execution_count": 133,
   "id": "4197e4fd-3206-4aef-8513-cd17b0806f66",
   "metadata": {
    "scrolled": true
   },
   "outputs": [
    {
     "name": "stdout",
     "output_type": "stream",
     "text": [
      "                        F1 Score\n",
      "Model                           \n",
      "LogisticReg             0.556000\n",
      "MultinomialNB           0.685714\n",
      "SVC                     0.660000\n",
      "RandomForestClassifier  0.620376\n"
     ]
    }
   ],
   "source": [
    "f1_scores = model(df_tax, lbl='Outcome', save_model=True, save_path=\"models/\")\n",
    "print(f1_scores)\n"
   ]
  },
  {
   "cell_type": "code",
   "execution_count": 137,
   "id": "49c999c0-dd3e-4e98-a1fc-aa84a57ed58f",
   "metadata": {
    "scrolled": true
   },
   "outputs": [
    {
     "name": "stdout",
     "output_type": "stream",
     "text": [
      "                        F1 Score\n",
      "Model                           \n",
      "LogisticReg             0.648485\n",
      "MultinomialNB           0.655844\n",
      "SVC                     0.648485\n",
      "RandomForestClassifier  0.472727\n"
     ]
    }
   ],
   "source": [
    "f1_scores = model(df_contract, lbl='outcome', save_model=True, save_path=\"models/\")\n",
    "print(f1_scores)"
   ]
  },
  {
   "cell_type": "code",
   "execution_count": 139,
   "id": "6d7c1a38-90fc-47b0-8b1e-80f2908af7df",
   "metadata": {},
   "outputs": [
    {
     "name": "stdout",
     "output_type": "stream",
     "text": [
      "                        F1 Score\n",
      "Model                           \n",
      "LogisticReg             0.838095\n",
      "MultinomialNB           0.666667\n",
      "SVC                     1.000000\n",
      "RandomForestClassifier  1.000000\n"
     ]
    }
   ],
   "source": [
    "f1_scores = model(df_dispute, lbl='outcome', save_model=True, save_path=\"models/\")\n",
    "print(f1_scores)"
   ]
  },
  {
   "cell_type": "code",
   "execution_count": 143,
   "id": "43be394b-52cb-4c63-a58f-bbbca60c78f2",
   "metadata": {},
   "outputs": [
    {
     "name": "stdout",
     "output_type": "stream",
     "text": [
      "                        F1 Score\n",
      "Model                           \n",
      "LogisticReg                  0.8\n",
      "MultinomialNB                0.5\n",
      "SVC                          1.0\n",
      "RandomForestClassifier       0.5\n"
     ]
    }
   ],
   "source": [
    "f1_scores = model(df_property, lbl='outcome', save_model=True, save_path=\"models/\")\n",
    "print(f1_scores)"
   ]
  },
  {
   "cell_type": "code",
   "execution_count": 145,
   "id": "31c9ab53-20c8-4385-9e20-2db3a13d53b1",
   "metadata": {},
   "outputs": [
    {
     "name": "stdout",
     "output_type": "stream",
     "text": [
      "                        F1 Score\n",
      "Model                           \n",
      "LogisticReg                  1.0\n",
      "MultinomialNB                1.0\n",
      "SVC                          1.0\n",
      "RandomForestClassifier       1.0\n"
     ]
    }
   ],
   "source": [
    "f1_scores = model(df_corporate, lbl='outcome', save_model=True, save_path=\"models/\")\n",
    "print(f1_scores)"
   ]
  },
  {
   "cell_type": "code",
   "execution_count": 147,
   "id": "347938d8-cd83-4a01-a64c-0d44cb7b3ce7",
   "metadata": {},
   "outputs": [
    {
     "data": {
      "text/html": [
       "<style>#sk-container-id-15 {color: black;background-color: white;}#sk-container-id-15 pre{padding: 0;}#sk-container-id-15 div.sk-toggleable {background-color: white;}#sk-container-id-15 label.sk-toggleable__label {cursor: pointer;display: block;width: 100%;margin-bottom: 0;padding: 0.3em;box-sizing: border-box;text-align: center;}#sk-container-id-15 label.sk-toggleable__label-arrow:before {content: \"▸\";float: left;margin-right: 0.25em;color: #696969;}#sk-container-id-15 label.sk-toggleable__label-arrow:hover:before {color: black;}#sk-container-id-15 div.sk-estimator:hover label.sk-toggleable__label-arrow:before {color: black;}#sk-container-id-15 div.sk-toggleable__content {max-height: 0;max-width: 0;overflow: hidden;text-align: left;background-color: #f0f8ff;}#sk-container-id-15 div.sk-toggleable__content pre {margin: 0.2em;color: black;border-radius: 0.25em;background-color: #f0f8ff;}#sk-container-id-15 input.sk-toggleable__control:checked~div.sk-toggleable__content {max-height: 200px;max-width: 100%;overflow: auto;}#sk-container-id-15 input.sk-toggleable__control:checked~label.sk-toggleable__label-arrow:before {content: \"▾\";}#sk-container-id-15 div.sk-estimator input.sk-toggleable__control:checked~label.sk-toggleable__label {background-color: #d4ebff;}#sk-container-id-15 div.sk-label input.sk-toggleable__control:checked~label.sk-toggleable__label {background-color: #d4ebff;}#sk-container-id-15 input.sk-hidden--visually {border: 0;clip: rect(1px 1px 1px 1px);clip: rect(1px, 1px, 1px, 1px);height: 1px;margin: -1px;overflow: hidden;padding: 0;position: absolute;width: 1px;}#sk-container-id-15 div.sk-estimator {font-family: monospace;background-color: #f0f8ff;border: 1px dotted black;border-radius: 0.25em;box-sizing: border-box;margin-bottom: 0.5em;}#sk-container-id-15 div.sk-estimator:hover {background-color: #d4ebff;}#sk-container-id-15 div.sk-parallel-item::after {content: \"\";width: 100%;border-bottom: 1px solid gray;flex-grow: 1;}#sk-container-id-15 div.sk-label:hover label.sk-toggleable__label {background-color: #d4ebff;}#sk-container-id-15 div.sk-serial::before {content: \"\";position: absolute;border-left: 1px solid gray;box-sizing: border-box;top: 0;bottom: 0;left: 50%;z-index: 0;}#sk-container-id-15 div.sk-serial {display: flex;flex-direction: column;align-items: center;background-color: white;padding-right: 0.2em;padding-left: 0.2em;position: relative;}#sk-container-id-15 div.sk-item {position: relative;z-index: 1;}#sk-container-id-15 div.sk-parallel {display: flex;align-items: stretch;justify-content: center;background-color: white;position: relative;}#sk-container-id-15 div.sk-item::before, #sk-container-id-15 div.sk-parallel-item::before {content: \"\";position: absolute;border-left: 1px solid gray;box-sizing: border-box;top: 0;bottom: 0;left: 50%;z-index: -1;}#sk-container-id-15 div.sk-parallel-item {display: flex;flex-direction: column;z-index: 1;position: relative;background-color: white;}#sk-container-id-15 div.sk-parallel-item:first-child::after {align-self: flex-end;width: 50%;}#sk-container-id-15 div.sk-parallel-item:last-child::after {align-self: flex-start;width: 50%;}#sk-container-id-15 div.sk-parallel-item:only-child::after {width: 0;}#sk-container-id-15 div.sk-dashed-wrapped {border: 1px dashed gray;margin: 0 0.4em 0.5em 0.4em;box-sizing: border-box;padding-bottom: 0.4em;background-color: white;}#sk-container-id-15 div.sk-label label {font-family: monospace;font-weight: bold;display: inline-block;line-height: 1.2em;}#sk-container-id-15 div.sk-label-container {text-align: center;}#sk-container-id-15 div.sk-container {/* jupyter's `normalize.less` sets `[hidden] { display: none; }` but bootstrap.min.css set `[hidden] { display: none !important; }` so we also need the `!important` here to be able to override the default hidden behavior on the sphinx rendered scikit-learn.org. See: https://github.com/scikit-learn/scikit-learn/issues/21755 */display: inline-block !important;position: relative;}#sk-container-id-15 div.sk-text-repr-fallback {display: none;}</style><div id=\"sk-container-id-15\" class=\"sk-top-container\"><div class=\"sk-text-repr-fallback\"><pre>MultinomialNB()</pre><b>In a Jupyter environment, please rerun this cell to show the HTML representation or trust the notebook. <br />On GitHub, the HTML representation is unable to render, please try loading this page with nbviewer.org.</b></div><div class=\"sk-container\" hidden><div class=\"sk-item\"><div class=\"sk-estimator sk-toggleable\"><input class=\"sk-toggleable__control sk-hidden--visually\" id=\"sk-estimator-id-15\" type=\"checkbox\" checked><label for=\"sk-estimator-id-15\" class=\"sk-toggleable__label sk-toggleable__label-arrow\">MultinomialNB</label><div class=\"sk-toggleable__content\"><pre>MultinomialNB()</pre></div></div></div></div></div>"
      ],
      "text/plain": [
       "MultinomialNB()"
      ]
     },
     "execution_count": 147,
     "metadata": {},
     "output_type": "execute_result"
    }
   ],
   "source": [
    "X1=df_tax['Case keywords']+df_tax['Number of evidences']+df_tax['Court Type']\n",
    "Y1=df_tax['Outcome']\n",
    "\n",
    "X1_train,X1_test,Y1_train,Y1_test=train_test_split(X1,Y1,test_size=0.2,random_state=50)\n",
    "v=CountVectorizer()\n",
    "X1_train_v=v.fit_transform(X1_train)\n",
    "X1_test_v=v.transform(X1_test)\n",
    "tax_mb = MultinomialNB()\n",
    "tax_mb.fit(X1_train_v,Y1_train)"
   ]
  },
  {
   "cell_type": "code",
   "execution_count": 149,
   "id": "234e45f9-5bd4-4688-9b0c-3a65ab24b9f9",
   "metadata": {},
   "outputs": [
    {
     "data": {
      "text/html": [
       "<style>#sk-container-id-16 {color: black;background-color: white;}#sk-container-id-16 pre{padding: 0;}#sk-container-id-16 div.sk-toggleable {background-color: white;}#sk-container-id-16 label.sk-toggleable__label {cursor: pointer;display: block;width: 100%;margin-bottom: 0;padding: 0.3em;box-sizing: border-box;text-align: center;}#sk-container-id-16 label.sk-toggleable__label-arrow:before {content: \"▸\";float: left;margin-right: 0.25em;color: #696969;}#sk-container-id-16 label.sk-toggleable__label-arrow:hover:before {color: black;}#sk-container-id-16 div.sk-estimator:hover label.sk-toggleable__label-arrow:before {color: black;}#sk-container-id-16 div.sk-toggleable__content {max-height: 0;max-width: 0;overflow: hidden;text-align: left;background-color: #f0f8ff;}#sk-container-id-16 div.sk-toggleable__content pre {margin: 0.2em;color: black;border-radius: 0.25em;background-color: #f0f8ff;}#sk-container-id-16 input.sk-toggleable__control:checked~div.sk-toggleable__content {max-height: 200px;max-width: 100%;overflow: auto;}#sk-container-id-16 input.sk-toggleable__control:checked~label.sk-toggleable__label-arrow:before {content: \"▾\";}#sk-container-id-16 div.sk-estimator input.sk-toggleable__control:checked~label.sk-toggleable__label {background-color: #d4ebff;}#sk-container-id-16 div.sk-label input.sk-toggleable__control:checked~label.sk-toggleable__label {background-color: #d4ebff;}#sk-container-id-16 input.sk-hidden--visually {border: 0;clip: rect(1px 1px 1px 1px);clip: rect(1px, 1px, 1px, 1px);height: 1px;margin: -1px;overflow: hidden;padding: 0;position: absolute;width: 1px;}#sk-container-id-16 div.sk-estimator {font-family: monospace;background-color: #f0f8ff;border: 1px dotted black;border-radius: 0.25em;box-sizing: border-box;margin-bottom: 0.5em;}#sk-container-id-16 div.sk-estimator:hover {background-color: #d4ebff;}#sk-container-id-16 div.sk-parallel-item::after {content: \"\";width: 100%;border-bottom: 1px solid gray;flex-grow: 1;}#sk-container-id-16 div.sk-label:hover label.sk-toggleable__label {background-color: #d4ebff;}#sk-container-id-16 div.sk-serial::before {content: \"\";position: absolute;border-left: 1px solid gray;box-sizing: border-box;top: 0;bottom: 0;left: 50%;z-index: 0;}#sk-container-id-16 div.sk-serial {display: flex;flex-direction: column;align-items: center;background-color: white;padding-right: 0.2em;padding-left: 0.2em;position: relative;}#sk-container-id-16 div.sk-item {position: relative;z-index: 1;}#sk-container-id-16 div.sk-parallel {display: flex;align-items: stretch;justify-content: center;background-color: white;position: relative;}#sk-container-id-16 div.sk-item::before, #sk-container-id-16 div.sk-parallel-item::before {content: \"\";position: absolute;border-left: 1px solid gray;box-sizing: border-box;top: 0;bottom: 0;left: 50%;z-index: -1;}#sk-container-id-16 div.sk-parallel-item {display: flex;flex-direction: column;z-index: 1;position: relative;background-color: white;}#sk-container-id-16 div.sk-parallel-item:first-child::after {align-self: flex-end;width: 50%;}#sk-container-id-16 div.sk-parallel-item:last-child::after {align-self: flex-start;width: 50%;}#sk-container-id-16 div.sk-parallel-item:only-child::after {width: 0;}#sk-container-id-16 div.sk-dashed-wrapped {border: 1px dashed gray;margin: 0 0.4em 0.5em 0.4em;box-sizing: border-box;padding-bottom: 0.4em;background-color: white;}#sk-container-id-16 div.sk-label label {font-family: monospace;font-weight: bold;display: inline-block;line-height: 1.2em;}#sk-container-id-16 div.sk-label-container {text-align: center;}#sk-container-id-16 div.sk-container {/* jupyter's `normalize.less` sets `[hidden] { display: none; }` but bootstrap.min.css set `[hidden] { display: none !important; }` so we also need the `!important` here to be able to override the default hidden behavior on the sphinx rendered scikit-learn.org. See: https://github.com/scikit-learn/scikit-learn/issues/21755 */display: inline-block !important;position: relative;}#sk-container-id-16 div.sk-text-repr-fallback {display: none;}</style><div id=\"sk-container-id-16\" class=\"sk-top-container\"><div class=\"sk-text-repr-fallback\"><pre>MultinomialNB()</pre><b>In a Jupyter environment, please rerun this cell to show the HTML representation or trust the notebook. <br />On GitHub, the HTML representation is unable to render, please try loading this page with nbviewer.org.</b></div><div class=\"sk-container\" hidden><div class=\"sk-item\"><div class=\"sk-estimator sk-toggleable\"><input class=\"sk-toggleable__control sk-hidden--visually\" id=\"sk-estimator-id-16\" type=\"checkbox\" checked><label for=\"sk-estimator-id-16\" class=\"sk-toggleable__label sk-toggleable__label-arrow\">MultinomialNB</label><div class=\"sk-toggleable__content\"><pre>MultinomialNB()</pre></div></div></div></div></div>"
      ],
      "text/plain": [
       "MultinomialNB()"
      ]
     },
     "execution_count": 149,
     "metadata": {},
     "output_type": "execute_result"
    }
   ],
   "source": [
    "X2=df_contract['Case keywords']+df_contract['Number of evidences']+df_contract['Court Type']\n",
    "Y2=df_contract['outcome']\n",
    "\n",
    "X2_train,X2_test,Y2_train,Y2_test=train_test_split(X2,Y2,test_size=0.2,random_state=50)\n",
    "v=CountVectorizer()\n",
    "X2_train_v=v.fit_transform(X2_train)\n",
    "X2_test_v=v.transform(X2_test)\n",
    "cont_mb = MultinomialNB()\n",
    "cont_mb.fit(X2_train_v,Y2_train)"
   ]
  },
  {
   "cell_type": "code",
   "execution_count": 151,
   "id": "e84dfee3-037d-4824-8e83-c2a4fc93dcfd",
   "metadata": {},
   "outputs": [
    {
     "data": {
      "text/html": [
       "<style>#sk-container-id-17 {color: black;background-color: white;}#sk-container-id-17 pre{padding: 0;}#sk-container-id-17 div.sk-toggleable {background-color: white;}#sk-container-id-17 label.sk-toggleable__label {cursor: pointer;display: block;width: 100%;margin-bottom: 0;padding: 0.3em;box-sizing: border-box;text-align: center;}#sk-container-id-17 label.sk-toggleable__label-arrow:before {content: \"▸\";float: left;margin-right: 0.25em;color: #696969;}#sk-container-id-17 label.sk-toggleable__label-arrow:hover:before {color: black;}#sk-container-id-17 div.sk-estimator:hover label.sk-toggleable__label-arrow:before {color: black;}#sk-container-id-17 div.sk-toggleable__content {max-height: 0;max-width: 0;overflow: hidden;text-align: left;background-color: #f0f8ff;}#sk-container-id-17 div.sk-toggleable__content pre {margin: 0.2em;color: black;border-radius: 0.25em;background-color: #f0f8ff;}#sk-container-id-17 input.sk-toggleable__control:checked~div.sk-toggleable__content {max-height: 200px;max-width: 100%;overflow: auto;}#sk-container-id-17 input.sk-toggleable__control:checked~label.sk-toggleable__label-arrow:before {content: \"▾\";}#sk-container-id-17 div.sk-estimator input.sk-toggleable__control:checked~label.sk-toggleable__label {background-color: #d4ebff;}#sk-container-id-17 div.sk-label input.sk-toggleable__control:checked~label.sk-toggleable__label {background-color: #d4ebff;}#sk-container-id-17 input.sk-hidden--visually {border: 0;clip: rect(1px 1px 1px 1px);clip: rect(1px, 1px, 1px, 1px);height: 1px;margin: -1px;overflow: hidden;padding: 0;position: absolute;width: 1px;}#sk-container-id-17 div.sk-estimator {font-family: monospace;background-color: #f0f8ff;border: 1px dotted black;border-radius: 0.25em;box-sizing: border-box;margin-bottom: 0.5em;}#sk-container-id-17 div.sk-estimator:hover {background-color: #d4ebff;}#sk-container-id-17 div.sk-parallel-item::after {content: \"\";width: 100%;border-bottom: 1px solid gray;flex-grow: 1;}#sk-container-id-17 div.sk-label:hover label.sk-toggleable__label {background-color: #d4ebff;}#sk-container-id-17 div.sk-serial::before {content: \"\";position: absolute;border-left: 1px solid gray;box-sizing: border-box;top: 0;bottom: 0;left: 50%;z-index: 0;}#sk-container-id-17 div.sk-serial {display: flex;flex-direction: column;align-items: center;background-color: white;padding-right: 0.2em;padding-left: 0.2em;position: relative;}#sk-container-id-17 div.sk-item {position: relative;z-index: 1;}#sk-container-id-17 div.sk-parallel {display: flex;align-items: stretch;justify-content: center;background-color: white;position: relative;}#sk-container-id-17 div.sk-item::before, #sk-container-id-17 div.sk-parallel-item::before {content: \"\";position: absolute;border-left: 1px solid gray;box-sizing: border-box;top: 0;bottom: 0;left: 50%;z-index: -1;}#sk-container-id-17 div.sk-parallel-item {display: flex;flex-direction: column;z-index: 1;position: relative;background-color: white;}#sk-container-id-17 div.sk-parallel-item:first-child::after {align-self: flex-end;width: 50%;}#sk-container-id-17 div.sk-parallel-item:last-child::after {align-self: flex-start;width: 50%;}#sk-container-id-17 div.sk-parallel-item:only-child::after {width: 0;}#sk-container-id-17 div.sk-dashed-wrapped {border: 1px dashed gray;margin: 0 0.4em 0.5em 0.4em;box-sizing: border-box;padding-bottom: 0.4em;background-color: white;}#sk-container-id-17 div.sk-label label {font-family: monospace;font-weight: bold;display: inline-block;line-height: 1.2em;}#sk-container-id-17 div.sk-label-container {text-align: center;}#sk-container-id-17 div.sk-container {/* jupyter's `normalize.less` sets `[hidden] { display: none; }` but bootstrap.min.css set `[hidden] { display: none !important; }` so we also need the `!important` here to be able to override the default hidden behavior on the sphinx rendered scikit-learn.org. See: https://github.com/scikit-learn/scikit-learn/issues/21755 */display: inline-block !important;position: relative;}#sk-container-id-17 div.sk-text-repr-fallback {display: none;}</style><div id=\"sk-container-id-17\" class=\"sk-top-container\"><div class=\"sk-text-repr-fallback\"><pre>SVC()</pre><b>In a Jupyter environment, please rerun this cell to show the HTML representation or trust the notebook. <br />On GitHub, the HTML representation is unable to render, please try loading this page with nbviewer.org.</b></div><div class=\"sk-container\" hidden><div class=\"sk-item\"><div class=\"sk-estimator sk-toggleable\"><input class=\"sk-toggleable__control sk-hidden--visually\" id=\"sk-estimator-id-17\" type=\"checkbox\" checked><label for=\"sk-estimator-id-17\" class=\"sk-toggleable__label sk-toggleable__label-arrow\">SVC</label><div class=\"sk-toggleable__content\"><pre>SVC()</pre></div></div></div></div></div>"
      ],
      "text/plain": [
       "SVC()"
      ]
     },
     "execution_count": 151,
     "metadata": {},
     "output_type": "execute_result"
    }
   ],
   "source": [
    "X3=df_dispute['Case keywords']+df_dispute['Number of evidences']+df_dispute['Court Type']\n",
    "Y3=df_dispute['outcome']\n",
    "\n",
    "X3_train,X3_test,Y3_train,Y3_test=train_test_split(X3,Y3,test_size=0.2,random_state=50)\n",
    "v=CountVectorizer()\n",
    "X3_train_v=v.fit_transform(X3_train)\n",
    "X3_test_v=v.transform(X3_test)\n",
    "dispute_svm = SVC()\n",
    "dispute_svm.fit(X3_train_v,Y3_train)"
   ]
  },
  {
   "cell_type": "code",
   "execution_count": 153,
   "id": "2e1ff53e-ee84-44f1-a8d4-bd67969b5e95",
   "metadata": {},
   "outputs": [
    {
     "data": {
      "text/html": [
       "<style>#sk-container-id-18 {color: black;background-color: white;}#sk-container-id-18 pre{padding: 0;}#sk-container-id-18 div.sk-toggleable {background-color: white;}#sk-container-id-18 label.sk-toggleable__label {cursor: pointer;display: block;width: 100%;margin-bottom: 0;padding: 0.3em;box-sizing: border-box;text-align: center;}#sk-container-id-18 label.sk-toggleable__label-arrow:before {content: \"▸\";float: left;margin-right: 0.25em;color: #696969;}#sk-container-id-18 label.sk-toggleable__label-arrow:hover:before {color: black;}#sk-container-id-18 div.sk-estimator:hover label.sk-toggleable__label-arrow:before {color: black;}#sk-container-id-18 div.sk-toggleable__content {max-height: 0;max-width: 0;overflow: hidden;text-align: left;background-color: #f0f8ff;}#sk-container-id-18 div.sk-toggleable__content pre {margin: 0.2em;color: black;border-radius: 0.25em;background-color: #f0f8ff;}#sk-container-id-18 input.sk-toggleable__control:checked~div.sk-toggleable__content {max-height: 200px;max-width: 100%;overflow: auto;}#sk-container-id-18 input.sk-toggleable__control:checked~label.sk-toggleable__label-arrow:before {content: \"▾\";}#sk-container-id-18 div.sk-estimator input.sk-toggleable__control:checked~label.sk-toggleable__label {background-color: #d4ebff;}#sk-container-id-18 div.sk-label input.sk-toggleable__control:checked~label.sk-toggleable__label {background-color: #d4ebff;}#sk-container-id-18 input.sk-hidden--visually {border: 0;clip: rect(1px 1px 1px 1px);clip: rect(1px, 1px, 1px, 1px);height: 1px;margin: -1px;overflow: hidden;padding: 0;position: absolute;width: 1px;}#sk-container-id-18 div.sk-estimator {font-family: monospace;background-color: #f0f8ff;border: 1px dotted black;border-radius: 0.25em;box-sizing: border-box;margin-bottom: 0.5em;}#sk-container-id-18 div.sk-estimator:hover {background-color: #d4ebff;}#sk-container-id-18 div.sk-parallel-item::after {content: \"\";width: 100%;border-bottom: 1px solid gray;flex-grow: 1;}#sk-container-id-18 div.sk-label:hover label.sk-toggleable__label {background-color: #d4ebff;}#sk-container-id-18 div.sk-serial::before {content: \"\";position: absolute;border-left: 1px solid gray;box-sizing: border-box;top: 0;bottom: 0;left: 50%;z-index: 0;}#sk-container-id-18 div.sk-serial {display: flex;flex-direction: column;align-items: center;background-color: white;padding-right: 0.2em;padding-left: 0.2em;position: relative;}#sk-container-id-18 div.sk-item {position: relative;z-index: 1;}#sk-container-id-18 div.sk-parallel {display: flex;align-items: stretch;justify-content: center;background-color: white;position: relative;}#sk-container-id-18 div.sk-item::before, #sk-container-id-18 div.sk-parallel-item::before {content: \"\";position: absolute;border-left: 1px solid gray;box-sizing: border-box;top: 0;bottom: 0;left: 50%;z-index: -1;}#sk-container-id-18 div.sk-parallel-item {display: flex;flex-direction: column;z-index: 1;position: relative;background-color: white;}#sk-container-id-18 div.sk-parallel-item:first-child::after {align-self: flex-end;width: 50%;}#sk-container-id-18 div.sk-parallel-item:last-child::after {align-self: flex-start;width: 50%;}#sk-container-id-18 div.sk-parallel-item:only-child::after {width: 0;}#sk-container-id-18 div.sk-dashed-wrapped {border: 1px dashed gray;margin: 0 0.4em 0.5em 0.4em;box-sizing: border-box;padding-bottom: 0.4em;background-color: white;}#sk-container-id-18 div.sk-label label {font-family: monospace;font-weight: bold;display: inline-block;line-height: 1.2em;}#sk-container-id-18 div.sk-label-container {text-align: center;}#sk-container-id-18 div.sk-container {/* jupyter's `normalize.less` sets `[hidden] { display: none; }` but bootstrap.min.css set `[hidden] { display: none !important; }` so we also need the `!important` here to be able to override the default hidden behavior on the sphinx rendered scikit-learn.org. See: https://github.com/scikit-learn/scikit-learn/issues/21755 */display: inline-block !important;position: relative;}#sk-container-id-18 div.sk-text-repr-fallback {display: none;}</style><div id=\"sk-container-id-18\" class=\"sk-top-container\"><div class=\"sk-text-repr-fallback\"><pre>SVC()</pre><b>In a Jupyter environment, please rerun this cell to show the HTML representation or trust the notebook. <br />On GitHub, the HTML representation is unable to render, please try loading this page with nbviewer.org.</b></div><div class=\"sk-container\" hidden><div class=\"sk-item\"><div class=\"sk-estimator sk-toggleable\"><input class=\"sk-toggleable__control sk-hidden--visually\" id=\"sk-estimator-id-18\" type=\"checkbox\" checked><label for=\"sk-estimator-id-18\" class=\"sk-toggleable__label sk-toggleable__label-arrow\">SVC</label><div class=\"sk-toggleable__content\"><pre>SVC()</pre></div></div></div></div></div>"
      ],
      "text/plain": [
       "SVC()"
      ]
     },
     "execution_count": 153,
     "metadata": {},
     "output_type": "execute_result"
    }
   ],
   "source": [
    "X4=df_property['Case keywords']+df_property['Number of evidences']+df_property['Court Type']\n",
    "Y4=df_property['outcome']\n",
    "\n",
    "X4_train,X4_test,Y4_train,Y4_test=train_test_split(X4,Y4,test_size=0.2,random_state=50)\n",
    "v=CountVectorizer()\n",
    "X4_train_v=v.fit_transform(X4_train)\n",
    "X4_test_v=v.transform(X4_test)\n",
    "property_svm = SVC()\n",
    "property_svm.fit(X4_train_v,Y4_train)"
   ]
  },
  {
   "cell_type": "code",
   "execution_count": 155,
   "id": "3a4bdce1-6f05-4c01-affb-43941b74fed9",
   "metadata": {},
   "outputs": [
    {
     "data": {
      "text/html": [
       "<style>#sk-container-id-19 {color: black;background-color: white;}#sk-container-id-19 pre{padding: 0;}#sk-container-id-19 div.sk-toggleable {background-color: white;}#sk-container-id-19 label.sk-toggleable__label {cursor: pointer;display: block;width: 100%;margin-bottom: 0;padding: 0.3em;box-sizing: border-box;text-align: center;}#sk-container-id-19 label.sk-toggleable__label-arrow:before {content: \"▸\";float: left;margin-right: 0.25em;color: #696969;}#sk-container-id-19 label.sk-toggleable__label-arrow:hover:before {color: black;}#sk-container-id-19 div.sk-estimator:hover label.sk-toggleable__label-arrow:before {color: black;}#sk-container-id-19 div.sk-toggleable__content {max-height: 0;max-width: 0;overflow: hidden;text-align: left;background-color: #f0f8ff;}#sk-container-id-19 div.sk-toggleable__content pre {margin: 0.2em;color: black;border-radius: 0.25em;background-color: #f0f8ff;}#sk-container-id-19 input.sk-toggleable__control:checked~div.sk-toggleable__content {max-height: 200px;max-width: 100%;overflow: auto;}#sk-container-id-19 input.sk-toggleable__control:checked~label.sk-toggleable__label-arrow:before {content: \"▾\";}#sk-container-id-19 div.sk-estimator input.sk-toggleable__control:checked~label.sk-toggleable__label {background-color: #d4ebff;}#sk-container-id-19 div.sk-label input.sk-toggleable__control:checked~label.sk-toggleable__label {background-color: #d4ebff;}#sk-container-id-19 input.sk-hidden--visually {border: 0;clip: rect(1px 1px 1px 1px);clip: rect(1px, 1px, 1px, 1px);height: 1px;margin: -1px;overflow: hidden;padding: 0;position: absolute;width: 1px;}#sk-container-id-19 div.sk-estimator {font-family: monospace;background-color: #f0f8ff;border: 1px dotted black;border-radius: 0.25em;box-sizing: border-box;margin-bottom: 0.5em;}#sk-container-id-19 div.sk-estimator:hover {background-color: #d4ebff;}#sk-container-id-19 div.sk-parallel-item::after {content: \"\";width: 100%;border-bottom: 1px solid gray;flex-grow: 1;}#sk-container-id-19 div.sk-label:hover label.sk-toggleable__label {background-color: #d4ebff;}#sk-container-id-19 div.sk-serial::before {content: \"\";position: absolute;border-left: 1px solid gray;box-sizing: border-box;top: 0;bottom: 0;left: 50%;z-index: 0;}#sk-container-id-19 div.sk-serial {display: flex;flex-direction: column;align-items: center;background-color: white;padding-right: 0.2em;padding-left: 0.2em;position: relative;}#sk-container-id-19 div.sk-item {position: relative;z-index: 1;}#sk-container-id-19 div.sk-parallel {display: flex;align-items: stretch;justify-content: center;background-color: white;position: relative;}#sk-container-id-19 div.sk-item::before, #sk-container-id-19 div.sk-parallel-item::before {content: \"\";position: absolute;border-left: 1px solid gray;box-sizing: border-box;top: 0;bottom: 0;left: 50%;z-index: -1;}#sk-container-id-19 div.sk-parallel-item {display: flex;flex-direction: column;z-index: 1;position: relative;background-color: white;}#sk-container-id-19 div.sk-parallel-item:first-child::after {align-self: flex-end;width: 50%;}#sk-container-id-19 div.sk-parallel-item:last-child::after {align-self: flex-start;width: 50%;}#sk-container-id-19 div.sk-parallel-item:only-child::after {width: 0;}#sk-container-id-19 div.sk-dashed-wrapped {border: 1px dashed gray;margin: 0 0.4em 0.5em 0.4em;box-sizing: border-box;padding-bottom: 0.4em;background-color: white;}#sk-container-id-19 div.sk-label label {font-family: monospace;font-weight: bold;display: inline-block;line-height: 1.2em;}#sk-container-id-19 div.sk-label-container {text-align: center;}#sk-container-id-19 div.sk-container {/* jupyter's `normalize.less` sets `[hidden] { display: none; }` but bootstrap.min.css set `[hidden] { display: none !important; }` so we also need the `!important` here to be able to override the default hidden behavior on the sphinx rendered scikit-learn.org. See: https://github.com/scikit-learn/scikit-learn/issues/21755 */display: inline-block !important;position: relative;}#sk-container-id-19 div.sk-text-repr-fallback {display: none;}</style><div id=\"sk-container-id-19\" class=\"sk-top-container\"><div class=\"sk-text-repr-fallback\"><pre>SVC()</pre><b>In a Jupyter environment, please rerun this cell to show the HTML representation or trust the notebook. <br />On GitHub, the HTML representation is unable to render, please try loading this page with nbviewer.org.</b></div><div class=\"sk-container\" hidden><div class=\"sk-item\"><div class=\"sk-estimator sk-toggleable\"><input class=\"sk-toggleable__control sk-hidden--visually\" id=\"sk-estimator-id-19\" type=\"checkbox\" checked><label for=\"sk-estimator-id-19\" class=\"sk-toggleable__label sk-toggleable__label-arrow\">SVC</label><div class=\"sk-toggleable__content\"><pre>SVC()</pre></div></div></div></div></div>"
      ],
      "text/plain": [
       "SVC()"
      ]
     },
     "execution_count": 155,
     "metadata": {},
     "output_type": "execute_result"
    }
   ],
   "source": [
    "X5=df_corporate['Case keywords']+df_corporate['Number of evidences']+df_corporate['Court Type']\n",
    "Y5=df_corporate['outcome']\n",
    "\n",
    "X5_train,X5_test,Y5_train,Y5_test=train_test_split(X5,Y5,test_size=0.2,random_state=50)\n",
    "v=CountVectorizer()\n",
    "X5_train_v=v.fit_transform(X5_train)\n",
    "X5_test_v=v.transform(X5_test)\n",
    "corporate_svm = SVC()\n",
    "corporate_svm.fit(X5_train_v,Y5_train)"
   ]
  },
  {
   "cell_type": "code",
   "execution_count": 113,
   "id": "ffc78f51-b9f1-4b01-8c3e-b8fa76c790c8",
   "metadata": {},
   "outputs": [],
   "source": [
    "pd.set_option('display.max_colwidth', None)"
   ]
  },
  {
   "cell_type": "code",
   "execution_count": 117,
   "id": "1bb5d735-a041-4147-b5d0-249e603ce09e",
   "metadata": {},
   "outputs": [
    {
     "data": {
      "text/plain": [
       "85              tax assessment second sales exemption alternate remedyMediummadras high court\n",
       "87    subcontractor works contract profit vat kerala value added tax actHighkerala high court\n",
       "57                            sales tax works contract taxable turnoverhighmadras high court \n",
       "52                      sales tax compounding of offences maximum penaltyLowandhra high court\n",
       "50                                   sales tax exemption burden of proofHighandhra high court\n",
       "dtype: object"
      ]
     },
     "execution_count": 117,
     "metadata": {},
     "output_type": "execute_result"
    }
   ],
   "source": [
    "X1_test.head()"
   ]
  },
  {
   "cell_type": "code",
   "execution_count": 159,
   "id": "813a7663-ee99-4306-8d64-bfeab65f8b9c",
   "metadata": {},
   "outputs": [
    {
     "name": "stdout",
     "output_type": "stream",
     "text": [
      "[0.11052938]\n"
     ]
    }
   ],
   "source": [
    "# Load the vectorizer and desired model\n",
    "v = joblib.load(\"models/vectorizer.pkl\")\n",
    "model = joblib.load(\"models/MultinomialNB.pkl\")\n",
    "\n",
    "# Transform new data\n",
    "cmt1 = [\"tax assessment second sales exemption alternate remedyMediummadras high court\"]\n",
    "cmt1_v = v.transform(cmt1)\n",
    "\n",
    "# Predict probabilities\n",
    "proba = model.predict_proba(cmt1_v)[:, 1]\n",
    "print(proba)\n"
   ]
  }
 ],
 "metadata": {
  "kernelspec": {
   "display_name": "Python 3 (ipykernel)",
   "language": "python",
   "name": "python3"
  },
  "language_info": {
   "codemirror_mode": {
    "name": "ipython",
    "version": 3
   },
   "file_extension": ".py",
   "mimetype": "text/x-python",
   "name": "python",
   "nbconvert_exporter": "python",
   "pygments_lexer": "ipython3",
   "version": "3.11.7"
  }
 },
 "nbformat": 4,
 "nbformat_minor": 5
}
